{
  "nbformat": 4,
  "nbformat_minor": 0,
  "metadata": {
    "colab": {
      "name": "Copy of  Moringa_Data_Science_Core_W2_2020_08_Robert_Wang'unda_Python_Notebook.ipynb",
      "provenance": [],
      "collapsed_sections": [],
      "toc_visible": true,
      "authorship_tag": "ABX9TyPGMCGujUL7GCQJTbSeC5Wl",
      "include_colab_link": true
    },
    "kernelspec": {
      "name": "python3",
      "display_name": "Python 3"
    }
  },
  "cells": [
    {
      "cell_type": "markdown",
      "metadata": {
        "id": "view-in-github",
        "colab_type": "text"
      },
      "source": [
        "<a href=\"https://colab.research.google.com/github/roberwangunda/week_2_project_core/blob/master/Copy_of_Moringa_Data_Science_Core_W2_2020_08_Robert_Wang'unda_Python_Notebook.ipynb\" target=\"_parent\"><img src=\"https://colab.research.google.com/assets/colab-badge.svg\" alt=\"Open In Colab\"/></a>"
      ]
    },
    {
      "cell_type": "markdown",
      "metadata": {
        "id": "bEvL5_4S_jfG",
        "colab_type": "text"
      },
      "source": [
        "\n",
        "# Univariate Analysis:"
      ]
    },
    {
      "cell_type": "markdown",
      "metadata": {
        "id": "BbTiocejBdZT",
        "colab_type": "text"
      },
      "source": [
        "#Research Question"
      ]
    },
    {
      "cell_type": "code",
      "metadata": {
        "id": "UV3O2qFFDiTi",
        "colab_type": "code",
        "colab": {}
      },
      "source": [
        "# which individuals are more likely to use a bank account in the three countries?\n"
      ],
      "execution_count": 1,
      "outputs": []
    },
    {
      "cell_type": "markdown",
      "metadata": {
        "id": "bjKPxxyuDxSV",
        "colab_type": "text"
      },
      "source": [
        "The metrics for succcess"
      ]
    },
    {
      "cell_type": "code",
      "metadata": {
        "id": "vqitTA89D7IL",
        "colab_type": "code",
        "colab": {}
      },
      "source": [
        "# use the the number of years to draw an analysis. \n",
        "# use the age of respondent to try and understand the question and design an answer based on the variablle under investigation"
      ],
      "execution_count": 2,
      "outputs": []
    },
    {
      "cell_type": "markdown",
      "metadata": {
        "id": "4uDtAMEAFW7d",
        "colab_type": "text"
      },
      "source": [
        "The context of the study"
      ]
    },
    {
      "cell_type": "code",
      "metadata": {
        "id": "wCPTitPAFd7H",
        "colab_type": "code",
        "colab": {}
      },
      "source": [
        "# the setting of the study is about individuals with the bank account in the three countries and not any other countries."
      ],
      "execution_count": 3,
      "outputs": []
    },
    {
      "cell_type": "markdown",
      "metadata": {
        "id": "twJJjpvQGsFA",
        "colab_type": "text"
      },
      "source": [
        "Experimental design"
      ]
    },
    {
      "cell_type": "code",
      "metadata": {
        "id": "PnmIGYzsHWUn",
        "colab_type": "code",
        "colab": {}
      },
      "source": [
        "# Exploratory \n",
        "# Descriptive \n",
        "# Explanatory "
      ],
      "execution_count": 4,
      "outputs": []
    },
    {
      "cell_type": "markdown",
      "metadata": {
        "id": "fJ1GGImbHsQM",
        "colab_type": "text"
      },
      "source": [
        "Relevence of the data"
      ]
    },
    {
      "cell_type": "code",
      "metadata": {
        "id": "ZxZWmqyBHvR1",
        "colab_type": "code",
        "colab": {}
      },
      "source": [
        "# Data provided is accurate, relevant and complete for the study"
      ],
      "execution_count": 5,
      "outputs": []
    },
    {
      "cell_type": "markdown",
      "metadata": {
        "id": "aFDS9MWGEUhN",
        "colab_type": "text"
      },
      "source": [
        "#Data Understanding"
      ]
    },
    {
      "cell_type": "code",
      "metadata": {
        "id": "ijRpxf8R_nRX",
        "colab_type": "code",
        "colab": {
          "base_uri": "https://localhost:8080/",
          "height": 71
        },
        "outputId": "c946efdb-38b3-4e72-c87e-3dfef3d5382d"
      },
      "source": [
        "# reading our data\n",
        "import pandas as pd \n",
        "import numpy as np\n",
        "import matplotlib.pyplot as plt\n",
        "import seaborn as sns\n",
        "import pandas.util.testing as tm\n",
        "\n"
      ],
      "execution_count": 6,
      "outputs": [
        {
          "output_type": "stream",
          "text": [
            "/usr/local/lib/python3.6/dist-packages/statsmodels/tools/_testing.py:19: FutureWarning: pandas.util.testing is deprecated. Use the functions in the public API at pandas.testing instead.\n",
            "  import pandas.util.testing as tm\n"
          ],
          "name": "stderr"
        }
      ]
    },
    {
      "cell_type": "code",
      "metadata": {
        "id": "Qki3a_UAA_jg",
        "colab_type": "code",
        "colab": {}
      },
      "source": [
        "# loading our dataset\n",
        "Financial_Dataset = 'Financial Dataset - 1.csv'\n",
        "\n",
        "df_dataset = pd.read_csv(Financial_Dataset)"
      ],
      "execution_count": 7,
      "outputs": []
    },
    {
      "cell_type": "code",
      "metadata": {
        "id": "-RhIL_kzCxSc",
        "colab_type": "code",
        "colab": {
          "base_uri": "https://localhost:8080/",
          "height": 34
        },
        "outputId": "c07b2903-9c38-4eac-cee0-9f160688dd34"
      },
      "source": [
        "# determine the number of fields\n",
        "df_dataset.shape"
      ],
      "execution_count": 8,
      "outputs": [
        {
          "output_type": "execute_result",
          "data": {
            "text/plain": [
              "(23524, 13)"
            ]
          },
          "metadata": {
            "tags": []
          },
          "execution_count": 8
        }
      ]
    },
    {
      "cell_type": "code",
      "metadata": {
        "id": "Ms2yf0W35T7Y",
        "colab_type": "code",
        "colab": {
          "base_uri": "https://localhost:8080/",
          "height": 102
        },
        "outputId": "2c970b9f-f5c4-48e3-ac70-9cb4092d3df0"
      },
      "source": [
        "\n",
        "# previwing the columns\n",
        "df_dataset.columns"
      ],
      "execution_count": 9,
      "outputs": [
        {
          "output_type": "execute_result",
          "data": {
            "text/plain": [
              "Index(['country', 'year', 'uniqueid', 'Has a Bank account', 'Type of Location',\n",
              "       'Cell Phone Access', 'household_size', 'Respondent Age',\n",
              "       'gender_of_respondent', 'The relathip with head', 'marital_status',\n",
              "       'Level of Educuation', 'Type of Job'],\n",
              "      dtype='object')"
            ]
          },
          "metadata": {
            "tags": []
          },
          "execution_count": 9
        }
      ]
    },
    {
      "cell_type": "code",
      "metadata": {
        "id": "j0kESwsI5gg3",
        "colab_type": "code",
        "colab": {}
      },
      "source": [
        "#renaming the names of the columns\n",
        "#\n",
        "\n",
        "df_dataset.rename(columns = {'Has a Bank account':'Has_a_Bank_account' , 'Type of Location': 'Type_of_Location',\n",
        "       'Cell Phone Access':'Cell_Phone_Access', 'Respondent Age':'Respondent_Age',\n",
        "       'The relathip with head':'The relathip_with_head',\n",
        "       'Level of Educuation':'Level_of_Educuation', 'Type of Job':'Type_of_Job'}, inplace=True)"
      ],
      "execution_count": 10,
      "outputs": []
    },
    {
      "cell_type": "code",
      "metadata": {
        "id": "-rO2CaGCDLQ4",
        "colab_type": "code",
        "colab": {
          "base_uri": "https://localhost:8080/",
          "height": 343
        },
        "outputId": "004fea9b-1908-463b-a555-e5c28860194c"
      },
      "source": [
        "# preview the top data\n",
        "df_dataset.head()"
      ],
      "execution_count": 11,
      "outputs": [
        {
          "output_type": "execute_result",
          "data": {
            "text/html": [
              "<div>\n",
              "<style scoped>\n",
              "    .dataframe tbody tr th:only-of-type {\n",
              "        vertical-align: middle;\n",
              "    }\n",
              "\n",
              "    .dataframe tbody tr th {\n",
              "        vertical-align: top;\n",
              "    }\n",
              "\n",
              "    .dataframe thead th {\n",
              "        text-align: right;\n",
              "    }\n",
              "</style>\n",
              "<table border=\"1\" class=\"dataframe\">\n",
              "  <thead>\n",
              "    <tr style=\"text-align: right;\">\n",
              "      <th></th>\n",
              "      <th>country</th>\n",
              "      <th>year</th>\n",
              "      <th>uniqueid</th>\n",
              "      <th>Has_a_Bank_account</th>\n",
              "      <th>Type_of_Location</th>\n",
              "      <th>Cell_Phone_Access</th>\n",
              "      <th>household_size</th>\n",
              "      <th>Respondent_Age</th>\n",
              "      <th>gender_of_respondent</th>\n",
              "      <th>The relathip_with_head</th>\n",
              "      <th>marital_status</th>\n",
              "      <th>Level_of_Educuation</th>\n",
              "      <th>Type_of_Job</th>\n",
              "    </tr>\n",
              "  </thead>\n",
              "  <tbody>\n",
              "    <tr>\n",
              "      <th>0</th>\n",
              "      <td>Kenya</td>\n",
              "      <td>2018</td>\n",
              "      <td>uniqueid_1</td>\n",
              "      <td>Yes</td>\n",
              "      <td>Rural</td>\n",
              "      <td>Yes</td>\n",
              "      <td>3.0</td>\n",
              "      <td>24.0</td>\n",
              "      <td>Female</td>\n",
              "      <td>Spouse</td>\n",
              "      <td>Married/Living together</td>\n",
              "      <td>Secondary education</td>\n",
              "      <td>Self employed</td>\n",
              "    </tr>\n",
              "    <tr>\n",
              "      <th>1</th>\n",
              "      <td>Kenya</td>\n",
              "      <td>2018</td>\n",
              "      <td>uniqueid_2</td>\n",
              "      <td>No</td>\n",
              "      <td>Rural</td>\n",
              "      <td>No</td>\n",
              "      <td>5.0</td>\n",
              "      <td>70.0</td>\n",
              "      <td>Female</td>\n",
              "      <td>Head of Household</td>\n",
              "      <td>Widowed</td>\n",
              "      <td>No formal education</td>\n",
              "      <td>Government Dependent</td>\n",
              "    </tr>\n",
              "    <tr>\n",
              "      <th>2</th>\n",
              "      <td>Kenya</td>\n",
              "      <td>2018</td>\n",
              "      <td>uniqueid_3</td>\n",
              "      <td>Yes</td>\n",
              "      <td>Urban</td>\n",
              "      <td>Yes</td>\n",
              "      <td>5.0</td>\n",
              "      <td>26.0</td>\n",
              "      <td>Male</td>\n",
              "      <td>Other relative</td>\n",
              "      <td>Single/Never Married</td>\n",
              "      <td>Vocational/Specialised training</td>\n",
              "      <td>Self employed</td>\n",
              "    </tr>\n",
              "    <tr>\n",
              "      <th>3</th>\n",
              "      <td>Kenya</td>\n",
              "      <td>2018</td>\n",
              "      <td>uniqueid_4</td>\n",
              "      <td>No</td>\n",
              "      <td>Rural</td>\n",
              "      <td>Yes</td>\n",
              "      <td>5.0</td>\n",
              "      <td>34.0</td>\n",
              "      <td>Female</td>\n",
              "      <td>Head of Household</td>\n",
              "      <td>Married/Living together</td>\n",
              "      <td>Primary education</td>\n",
              "      <td>Formally employed Private</td>\n",
              "    </tr>\n",
              "    <tr>\n",
              "      <th>4</th>\n",
              "      <td>Kenya</td>\n",
              "      <td>2018</td>\n",
              "      <td>uniqueid_5</td>\n",
              "      <td>No</td>\n",
              "      <td>Urban</td>\n",
              "      <td>No</td>\n",
              "      <td>8.0</td>\n",
              "      <td>26.0</td>\n",
              "      <td>Male</td>\n",
              "      <td>Child</td>\n",
              "      <td>Single/Never Married</td>\n",
              "      <td>Primary education</td>\n",
              "      <td>Informally employed</td>\n",
              "    </tr>\n",
              "  </tbody>\n",
              "</table>\n",
              "</div>"
            ],
            "text/plain": [
              "  country  year  ...              Level_of_Educuation                Type_of_Job\n",
              "0   Kenya  2018  ...              Secondary education              Self employed\n",
              "1   Kenya  2018  ...              No formal education       Government Dependent\n",
              "2   Kenya  2018  ...  Vocational/Specialised training              Self employed\n",
              "3   Kenya  2018  ...                Primary education  Formally employed Private\n",
              "4   Kenya  2018  ...                Primary education        Informally employed\n",
              "\n",
              "[5 rows x 13 columns]"
            ]
          },
          "metadata": {
            "tags": []
          },
          "execution_count": 11
        }
      ]
    },
    {
      "cell_type": "code",
      "metadata": {
        "id": "pS30jACiDdMJ",
        "colab_type": "code",
        "colab": {
          "base_uri": "https://localhost:8080/",
          "height": 255
        },
        "outputId": "f1c1b3fc-73d0-4048-d3c8-6de784104a13"
      },
      "source": [
        "# checking the types of datatypes\n",
        "df_dataset.dtypes"
      ],
      "execution_count": 12,
      "outputs": [
        {
          "output_type": "execute_result",
          "data": {
            "text/plain": [
              "country                    object\n",
              "year                        int64\n",
              "uniqueid                   object\n",
              "Has_a_Bank_account         object\n",
              "Type_of_Location           object\n",
              "Cell_Phone_Access          object\n",
              "household_size            float64\n",
              "Respondent_Age            float64\n",
              "gender_of_respondent       object\n",
              "The relathip_with_head     object\n",
              "marital_status             object\n",
              "Level_of_Educuation        object\n",
              "Type_of_Job                object\n",
              "dtype: object"
            ]
          },
          "metadata": {
            "tags": []
          },
          "execution_count": 12
        }
      ]
    },
    {
      "cell_type": "markdown",
      "metadata": {
        "id": "QI11e99JEbD-",
        "colab_type": "text"
      },
      "source": [
        "#Data Preparation"
      ]
    },
    {
      "cell_type": "code",
      "metadata": {
        "id": "K01VyX-JEjR2",
        "colab_type": "code",
        "colab": {
          "base_uri": "https://localhost:8080/",
          "height": 0
        },
        "outputId": "ca4d0e38-954f-48c8-f9af-cbc97aeeee11"
      },
      "source": [
        "# checking for outliers\n",
        "# use interquartile range()\n",
        "Q1 = df_dataset.quantile(0.25)\n",
        "Q3 = df_dataset.quantile(0.75)\n",
        "IQR = Q3 - Q1\n",
        "(df_dataset < (Q1 - 1.5 * IQR)) |(df_dataset > (Q3 + 1.5 * IQR))\n",
        "\n",
        "# there were outliers in the dataset\n",
        "#yes or no implies the presence of outliers in the dataset."
      ],
      "execution_count": 13,
      "outputs": [
        {
          "output_type": "execute_result",
          "data": {
            "text/html": [
              "<div>\n",
              "<style scoped>\n",
              "    .dataframe tbody tr th:only-of-type {\n",
              "        vertical-align: middle;\n",
              "    }\n",
              "\n",
              "    .dataframe tbody tr th {\n",
              "        vertical-align: top;\n",
              "    }\n",
              "\n",
              "    .dataframe thead th {\n",
              "        text-align: right;\n",
              "    }\n",
              "</style>\n",
              "<table border=\"1\" class=\"dataframe\">\n",
              "  <thead>\n",
              "    <tr style=\"text-align: right;\">\n",
              "      <th></th>\n",
              "      <th>Cell_Phone_Access</th>\n",
              "      <th>Has_a_Bank_account</th>\n",
              "      <th>Level_of_Educuation</th>\n",
              "      <th>Respondent_Age</th>\n",
              "      <th>The relathip_with_head</th>\n",
              "      <th>Type_of_Job</th>\n",
              "      <th>Type_of_Location</th>\n",
              "      <th>country</th>\n",
              "      <th>gender_of_respondent</th>\n",
              "      <th>household_size</th>\n",
              "      <th>marital_status</th>\n",
              "      <th>uniqueid</th>\n",
              "      <th>year</th>\n",
              "    </tr>\n",
              "  </thead>\n",
              "  <tbody>\n",
              "    <tr>\n",
              "      <th>0</th>\n",
              "      <td>False</td>\n",
              "      <td>False</td>\n",
              "      <td>False</td>\n",
              "      <td>False</td>\n",
              "      <td>False</td>\n",
              "      <td>False</td>\n",
              "      <td>False</td>\n",
              "      <td>False</td>\n",
              "      <td>False</td>\n",
              "      <td>False</td>\n",
              "      <td>False</td>\n",
              "      <td>False</td>\n",
              "      <td>False</td>\n",
              "    </tr>\n",
              "    <tr>\n",
              "      <th>1</th>\n",
              "      <td>False</td>\n",
              "      <td>False</td>\n",
              "      <td>False</td>\n",
              "      <td>False</td>\n",
              "      <td>False</td>\n",
              "      <td>False</td>\n",
              "      <td>False</td>\n",
              "      <td>False</td>\n",
              "      <td>False</td>\n",
              "      <td>False</td>\n",
              "      <td>False</td>\n",
              "      <td>False</td>\n",
              "      <td>False</td>\n",
              "    </tr>\n",
              "    <tr>\n",
              "      <th>2</th>\n",
              "      <td>False</td>\n",
              "      <td>False</td>\n",
              "      <td>False</td>\n",
              "      <td>False</td>\n",
              "      <td>False</td>\n",
              "      <td>False</td>\n",
              "      <td>False</td>\n",
              "      <td>False</td>\n",
              "      <td>False</td>\n",
              "      <td>False</td>\n",
              "      <td>False</td>\n",
              "      <td>False</td>\n",
              "      <td>False</td>\n",
              "    </tr>\n",
              "    <tr>\n",
              "      <th>3</th>\n",
              "      <td>False</td>\n",
              "      <td>False</td>\n",
              "      <td>False</td>\n",
              "      <td>False</td>\n",
              "      <td>False</td>\n",
              "      <td>False</td>\n",
              "      <td>False</td>\n",
              "      <td>False</td>\n",
              "      <td>False</td>\n",
              "      <td>False</td>\n",
              "      <td>False</td>\n",
              "      <td>False</td>\n",
              "      <td>False</td>\n",
              "    </tr>\n",
              "    <tr>\n",
              "      <th>4</th>\n",
              "      <td>False</td>\n",
              "      <td>False</td>\n",
              "      <td>False</td>\n",
              "      <td>False</td>\n",
              "      <td>False</td>\n",
              "      <td>False</td>\n",
              "      <td>False</td>\n",
              "      <td>False</td>\n",
              "      <td>False</td>\n",
              "      <td>False</td>\n",
              "      <td>False</td>\n",
              "      <td>False</td>\n",
              "      <td>False</td>\n",
              "    </tr>\n",
              "    <tr>\n",
              "      <th>...</th>\n",
              "      <td>...</td>\n",
              "      <td>...</td>\n",
              "      <td>...</td>\n",
              "      <td>...</td>\n",
              "      <td>...</td>\n",
              "      <td>...</td>\n",
              "      <td>...</td>\n",
              "      <td>...</td>\n",
              "      <td>...</td>\n",
              "      <td>...</td>\n",
              "      <td>...</td>\n",
              "      <td>...</td>\n",
              "      <td>...</td>\n",
              "    </tr>\n",
              "    <tr>\n",
              "      <th>23519</th>\n",
              "      <td>False</td>\n",
              "      <td>False</td>\n",
              "      <td>False</td>\n",
              "      <td>False</td>\n",
              "      <td>False</td>\n",
              "      <td>False</td>\n",
              "      <td>False</td>\n",
              "      <td>False</td>\n",
              "      <td>False</td>\n",
              "      <td>False</td>\n",
              "      <td>False</td>\n",
              "      <td>False</td>\n",
              "      <td>False</td>\n",
              "    </tr>\n",
              "    <tr>\n",
              "      <th>23520</th>\n",
              "      <td>False</td>\n",
              "      <td>False</td>\n",
              "      <td>False</td>\n",
              "      <td>False</td>\n",
              "      <td>False</td>\n",
              "      <td>False</td>\n",
              "      <td>False</td>\n",
              "      <td>False</td>\n",
              "      <td>False</td>\n",
              "      <td>False</td>\n",
              "      <td>False</td>\n",
              "      <td>False</td>\n",
              "      <td>False</td>\n",
              "    </tr>\n",
              "    <tr>\n",
              "      <th>23521</th>\n",
              "      <td>False</td>\n",
              "      <td>False</td>\n",
              "      <td>False</td>\n",
              "      <td>False</td>\n",
              "      <td>False</td>\n",
              "      <td>False</td>\n",
              "      <td>False</td>\n",
              "      <td>False</td>\n",
              "      <td>False</td>\n",
              "      <td>False</td>\n",
              "      <td>False</td>\n",
              "      <td>False</td>\n",
              "      <td>False</td>\n",
              "    </tr>\n",
              "    <tr>\n",
              "      <th>23522</th>\n",
              "      <td>False</td>\n",
              "      <td>False</td>\n",
              "      <td>False</td>\n",
              "      <td>False</td>\n",
              "      <td>False</td>\n",
              "      <td>False</td>\n",
              "      <td>False</td>\n",
              "      <td>False</td>\n",
              "      <td>False</td>\n",
              "      <td>False</td>\n",
              "      <td>False</td>\n",
              "      <td>False</td>\n",
              "      <td>False</td>\n",
              "    </tr>\n",
              "    <tr>\n",
              "      <th>23523</th>\n",
              "      <td>False</td>\n",
              "      <td>False</td>\n",
              "      <td>False</td>\n",
              "      <td>False</td>\n",
              "      <td>False</td>\n",
              "      <td>False</td>\n",
              "      <td>False</td>\n",
              "      <td>False</td>\n",
              "      <td>False</td>\n",
              "      <td>True</td>\n",
              "      <td>False</td>\n",
              "      <td>False</td>\n",
              "      <td>False</td>\n",
              "    </tr>\n",
              "  </tbody>\n",
              "</table>\n",
              "<p>23524 rows × 13 columns</p>\n",
              "</div>"
            ],
            "text/plain": [
              "       Cell_Phone_Access  Has_a_Bank_account  ...  uniqueid   year\n",
              "0                  False               False  ...     False  False\n",
              "1                  False               False  ...     False  False\n",
              "2                  False               False  ...     False  False\n",
              "3                  False               False  ...     False  False\n",
              "4                  False               False  ...     False  False\n",
              "...                  ...                 ...  ...       ...    ...\n",
              "23519              False               False  ...     False  False\n",
              "23520              False               False  ...     False  False\n",
              "23521              False               False  ...     False  False\n",
              "23522              False               False  ...     False  False\n",
              "23523              False               False  ...     False  False\n",
              "\n",
              "[23524 rows x 13 columns]"
            ]
          },
          "metadata": {
            "tags": []
          },
          "execution_count": 13
        }
      ]
    },
    {
      "cell_type": "code",
      "metadata": {
        "id": "r-xs-MxpF-Rr",
        "colab_type": "code",
        "colab": {
          "base_uri": "https://localhost:8080/",
          "height": 0
        },
        "outputId": "d958685a-f9f9-4e61-a592-a83a9e6137bc"
      },
      "source": [
        "# correcting the ouliers\n",
        "#\n",
        "\n",
        "df_dataset_one = df_dataset[~((df_dataset < (Q1 - 1.5 * IQR)) |(df_dataset> (Q3 + 1.5 * IQR))).any(axis=1)]\n",
        "df_dataset_one.head(3)\n"
      ],
      "execution_count": 14,
      "outputs": [
        {
          "output_type": "execute_result",
          "data": {
            "text/html": [
              "<div>\n",
              "<style scoped>\n",
              "    .dataframe tbody tr th:only-of-type {\n",
              "        vertical-align: middle;\n",
              "    }\n",
              "\n",
              "    .dataframe tbody tr th {\n",
              "        vertical-align: top;\n",
              "    }\n",
              "\n",
              "    .dataframe thead th {\n",
              "        text-align: right;\n",
              "    }\n",
              "</style>\n",
              "<table border=\"1\" class=\"dataframe\">\n",
              "  <thead>\n",
              "    <tr style=\"text-align: right;\">\n",
              "      <th></th>\n",
              "      <th>country</th>\n",
              "      <th>year</th>\n",
              "      <th>uniqueid</th>\n",
              "      <th>Has_a_Bank_account</th>\n",
              "      <th>Type_of_Location</th>\n",
              "      <th>Cell_Phone_Access</th>\n",
              "      <th>household_size</th>\n",
              "      <th>Respondent_Age</th>\n",
              "      <th>gender_of_respondent</th>\n",
              "      <th>The relathip_with_head</th>\n",
              "      <th>marital_status</th>\n",
              "      <th>Level_of_Educuation</th>\n",
              "      <th>Type_of_Job</th>\n",
              "    </tr>\n",
              "  </thead>\n",
              "  <tbody>\n",
              "    <tr>\n",
              "      <th>0</th>\n",
              "      <td>Kenya</td>\n",
              "      <td>2018</td>\n",
              "      <td>uniqueid_1</td>\n",
              "      <td>Yes</td>\n",
              "      <td>Rural</td>\n",
              "      <td>Yes</td>\n",
              "      <td>3.0</td>\n",
              "      <td>24.0</td>\n",
              "      <td>Female</td>\n",
              "      <td>Spouse</td>\n",
              "      <td>Married/Living together</td>\n",
              "      <td>Secondary education</td>\n",
              "      <td>Self employed</td>\n",
              "    </tr>\n",
              "    <tr>\n",
              "      <th>1</th>\n",
              "      <td>Kenya</td>\n",
              "      <td>2018</td>\n",
              "      <td>uniqueid_2</td>\n",
              "      <td>No</td>\n",
              "      <td>Rural</td>\n",
              "      <td>No</td>\n",
              "      <td>5.0</td>\n",
              "      <td>70.0</td>\n",
              "      <td>Female</td>\n",
              "      <td>Head of Household</td>\n",
              "      <td>Widowed</td>\n",
              "      <td>No formal education</td>\n",
              "      <td>Government Dependent</td>\n",
              "    </tr>\n",
              "    <tr>\n",
              "      <th>2</th>\n",
              "      <td>Kenya</td>\n",
              "      <td>2018</td>\n",
              "      <td>uniqueid_3</td>\n",
              "      <td>Yes</td>\n",
              "      <td>Urban</td>\n",
              "      <td>Yes</td>\n",
              "      <td>5.0</td>\n",
              "      <td>26.0</td>\n",
              "      <td>Male</td>\n",
              "      <td>Other relative</td>\n",
              "      <td>Single/Never Married</td>\n",
              "      <td>Vocational/Specialised training</td>\n",
              "      <td>Self employed</td>\n",
              "    </tr>\n",
              "  </tbody>\n",
              "</table>\n",
              "</div>"
            ],
            "text/plain": [
              "  country  year  ...              Level_of_Educuation           Type_of_Job\n",
              "0   Kenya  2018  ...              Secondary education         Self employed\n",
              "1   Kenya  2018  ...              No formal education  Government Dependent\n",
              "2   Kenya  2018  ...  Vocational/Specialised training         Self employed\n",
              "\n",
              "[3 rows x 13 columns]"
            ]
          },
          "metadata": {
            "tags": []
          },
          "execution_count": 14
        }
      ]
    },
    {
      "cell_type": "code",
      "metadata": {
        "id": "ooXAnP0pH-At",
        "colab_type": "code",
        "colab": {
          "base_uri": "https://localhost:8080/",
          "height": 0
        },
        "outputId": "104116a0-0e67-4c60-9a71-4d2f3b813488"
      },
      "source": [
        "# checking for missing values\n",
        "df_dataset_one.isnull().sum()\n",
        "\n",
        "# there were no missing values values"
      ],
      "execution_count": 15,
      "outputs": [
        {
          "output_type": "execute_result",
          "data": {
            "text/plain": [
              "country                   14\n",
              "year                       0\n",
              "uniqueid                   0\n",
              "Has_a_Bank_account        36\n",
              "Type_of_Location          15\n",
              "Cell_Phone_Access         11\n",
              "household_size            27\n",
              "Respondent_Age            33\n",
              "gender_of_respondent      33\n",
              "The relathip_with_head     4\n",
              "marital_status            31\n",
              "Level_of_Educuation       29\n",
              "Type_of_Job               30\n",
              "dtype: int64"
            ]
          },
          "metadata": {
            "tags": []
          },
          "execution_count": 15
        }
      ]
    },
    {
      "cell_type": "code",
      "metadata": {
        "id": "-J5n5Op-KCax",
        "colab_type": "code",
        "colab": {
          "base_uri": "https://localhost:8080/",
          "height": 0
        },
        "outputId": "3e7b4e5f-ba3e-4fc9-d57c-8e349b8e8fb7"
      },
      "source": [
        "# check for more information about your dataframe after cleaning\n",
        "#\n",
        "df_dataset_one.info()"
      ],
      "execution_count": 16,
      "outputs": [
        {
          "output_type": "stream",
          "text": [
            "<class 'pandas.core.frame.DataFrame'>\n",
            "Int64Index: 22903 entries, 0 to 23522\n",
            "Data columns (total 13 columns):\n",
            " #   Column                  Non-Null Count  Dtype  \n",
            "---  ------                  --------------  -----  \n",
            " 0   country                 22889 non-null  object \n",
            " 1   year                    22903 non-null  int64  \n",
            " 2   uniqueid                22903 non-null  object \n",
            " 3   Has_a_Bank_account      22867 non-null  object \n",
            " 4   Type_of_Location        22888 non-null  object \n",
            " 5   Cell_Phone_Access       22892 non-null  object \n",
            " 6   household_size          22876 non-null  float64\n",
            " 7   Respondent_Age          22870 non-null  float64\n",
            " 8   gender_of_respondent    22870 non-null  object \n",
            " 9   The relathip_with_head  22899 non-null  object \n",
            " 10  marital_status          22872 non-null  object \n",
            " 11  Level_of_Educuation     22874 non-null  object \n",
            " 12  Type_of_Job             22873 non-null  object \n",
            "dtypes: float64(2), int64(1), object(10)\n",
            "memory usage: 2.4+ MB\n"
          ],
          "name": "stdout"
        }
      ]
    },
    {
      "cell_type": "markdown",
      "metadata": {
        "id": "fz8JcT9xREK0",
        "colab_type": "text"
      },
      "source": [
        "#Exploratory Data Analysis and Visualization"
      ]
    },
    {
      "cell_type": "code",
      "metadata": {
        "id": "hUtEqc4MRRrD",
        "colab_type": "code",
        "colab": {
          "base_uri": "https://localhost:8080/",
          "height": 297
        },
        "outputId": "c9609c7c-b87c-4c97-a08e-01eaebef1fd3"
      },
      "source": [
        "# describing the various statistics from the data\n",
        "# measures of central tendency and dispersion\n",
        "#\n",
        "df_dataset_one.describe()"
      ],
      "execution_count": 17,
      "outputs": [
        {
          "output_type": "execute_result",
          "data": {
            "text/html": [
              "<div>\n",
              "<style scoped>\n",
              "    .dataframe tbody tr th:only-of-type {\n",
              "        vertical-align: middle;\n",
              "    }\n",
              "\n",
              "    .dataframe tbody tr th {\n",
              "        vertical-align: top;\n",
              "    }\n",
              "\n",
              "    .dataframe thead th {\n",
              "        text-align: right;\n",
              "    }\n",
              "</style>\n",
              "<table border=\"1\" class=\"dataframe\">\n",
              "  <thead>\n",
              "    <tr style=\"text-align: right;\">\n",
              "      <th></th>\n",
              "      <th>year</th>\n",
              "      <th>household_size</th>\n",
              "      <th>Respondent_Age</th>\n",
              "    </tr>\n",
              "  </thead>\n",
              "  <tbody>\n",
              "    <tr>\n",
              "      <th>count</th>\n",
              "      <td>22903.000000</td>\n",
              "      <td>22876.000000</td>\n",
              "      <td>22870.000000</td>\n",
              "    </tr>\n",
              "    <tr>\n",
              "      <th>mean</th>\n",
              "      <td>2016.966642</td>\n",
              "      <td>3.573396</td>\n",
              "      <td>38.345081</td>\n",
              "    </tr>\n",
              "    <tr>\n",
              "      <th>std</th>\n",
              "      <td>0.844533</td>\n",
              "      <td>2.079783</td>\n",
              "      <td>15.804023</td>\n",
              "    </tr>\n",
              "    <tr>\n",
              "      <th>min</th>\n",
              "      <td>2016.000000</td>\n",
              "      <td>0.000000</td>\n",
              "      <td>16.000000</td>\n",
              "    </tr>\n",
              "    <tr>\n",
              "      <th>25%</th>\n",
              "      <td>2016.000000</td>\n",
              "      <td>2.000000</td>\n",
              "      <td>26.000000</td>\n",
              "    </tr>\n",
              "    <tr>\n",
              "      <th>50%</th>\n",
              "      <td>2017.000000</td>\n",
              "      <td>3.000000</td>\n",
              "      <td>35.000000</td>\n",
              "    </tr>\n",
              "    <tr>\n",
              "      <th>75%</th>\n",
              "      <td>2018.000000</td>\n",
              "      <td>5.000000</td>\n",
              "      <td>48.000000</td>\n",
              "    </tr>\n",
              "    <tr>\n",
              "      <th>max</th>\n",
              "      <td>2018.000000</td>\n",
              "      <td>9.000000</td>\n",
              "      <td>83.000000</td>\n",
              "    </tr>\n",
              "  </tbody>\n",
              "</table>\n",
              "</div>"
            ],
            "text/plain": [
              "               year  household_size  Respondent_Age\n",
              "count  22903.000000    22876.000000    22870.000000\n",
              "mean    2016.966642        3.573396       38.345081\n",
              "std        0.844533        2.079783       15.804023\n",
              "min     2016.000000        0.000000       16.000000\n",
              "25%     2016.000000        2.000000       26.000000\n",
              "50%     2017.000000        3.000000       35.000000\n",
              "75%     2018.000000        5.000000       48.000000\n",
              "max     2018.000000        9.000000       83.000000"
            ]
          },
          "metadata": {
            "tags": []
          },
          "execution_count": 17
        }
      ]
    },
    {
      "cell_type": "code",
      "metadata": {
        "id": "7-39t_i5B7pi",
        "colab_type": "code",
        "colab": {
          "base_uri": "https://localhost:8080/",
          "height": 34
        },
        "outputId": "9a8e6c13-09ea-4a95-fa86-435d9bcc3030"
      },
      "source": [
        "\n",
        "# calculating the skewness of the respondent age\n",
        "#\n",
        "df_dataset_one[\"Respondent_Age\"].skew()\n",
        "\n",
        "# respondent age is positively skewed to the right because of the positive value 0.7\n",
        "# the mean for the household is greater than the mode and the median."
      ],
      "execution_count": 18,
      "outputs": [
        {
          "output_type": "execute_result",
          "data": {
            "text/plain": [
              "0.7409754960713362"
            ]
          },
          "metadata": {
            "tags": []
          },
          "execution_count": 18
        }
      ]
    },
    {
      "cell_type": "code",
      "metadata": {
        "id": "LPeWtYTVE-hI",
        "colab_type": "code",
        "colab": {
          "base_uri": "https://localhost:8080/",
          "height": 34
        },
        "outputId": "de469712-1143-49c3-aa05-583ea080d208"
      },
      "source": [
        "# calculating the skewness of the household size\n",
        "df_dataset_one[\"household_size\"].skew()\n",
        "\n",
        "# household size is positively skewed to the right because of the positive value 0.6\n",
        "# the mean for the household is greater than the mode and the median."
      ],
      "execution_count": 19,
      "outputs": [
        {
          "output_type": "execute_result",
          "data": {
            "text/plain": [
              "0.6107328357162268"
            ]
          },
          "metadata": {
            "tags": []
          },
          "execution_count": 19
        }
      ]
    },
    {
      "cell_type": "code",
      "metadata": {
        "id": "mtXXM9FBE5Am",
        "colab_type": "code",
        "colab": {
          "base_uri": "https://localhost:8080/",
          "height": 34
        },
        "outputId": "1dc722d2-9d4b-4d09-f2da-e2d2e1e43536"
      },
      "source": [
        "# calculating the skewness of the skewness of the year\n",
        "df_dataset_one[\"year\"].skew()\n",
        "\n",
        "# year is positively skewed to the right because of the positive value 0.06\n",
        "# the mean for the household is greater than the mode and the median."
      ],
      "execution_count": 20,
      "outputs": [
        {
          "output_type": "execute_result",
          "data": {
            "text/plain": [
              "0.06318146269461512"
            ]
          },
          "metadata": {
            "tags": []
          },
          "execution_count": 20
        }
      ]
    },
    {
      "cell_type": "code",
      "metadata": {
        "id": "W3E6zfIwfpJW",
        "colab_type": "code",
        "colab": {
          "base_uri": "https://localhost:8080/",
          "height": 34
        },
        "outputId": "ca611fa1-6461-4c51-cf11-59f6290a0b2c"
      },
      "source": [
        "# calculating the kurtosis of the year\n",
        "df_dataset_one[\"year\"].kurt()\n",
        "\n",
        "# the distribution of the of the years is statistically too flat indicating that there were no outliers\n",
        "# the outliers were corrected during the cleaning process.\n",
        "# the kurtosis is -1.5"
      ],
      "execution_count": 21,
      "outputs": [
        {
          "output_type": "execute_result",
          "data": {
            "text/plain": [
              "-1.5951573822922471"
            ]
          },
          "metadata": {
            "tags": []
          },
          "execution_count": 21
        }
      ]
    },
    {
      "cell_type": "code",
      "metadata": {
        "id": "9CgtBYIHgc6c",
        "colab_type": "code",
        "colab": {
          "base_uri": "https://localhost:8080/",
          "height": 34
        },
        "outputId": "859a23e6-b85a-48c9-8023-0eff38b40930"
      },
      "source": [
        "# calculating the kurtosis of the household size\n",
        "df_dataset_one[\"household_size\"].kurt()\n",
        "\n",
        "# the distribution for the household size is statistically too flat indicating that there were no outliers\n",
        "# the outliers were corrected during the cleaning process.\n",
        "# the kurtosis is -0.4"
      ],
      "execution_count": 22,
      "outputs": [
        {
          "output_type": "execute_result",
          "data": {
            "text/plain": [
              "-0.49930440433763623"
            ]
          },
          "metadata": {
            "tags": []
          },
          "execution_count": 22
        }
      ]
    },
    {
      "cell_type": "code",
      "metadata": {
        "id": "4awAoWSIgn9e",
        "colab_type": "code",
        "colab": {
          "base_uri": "https://localhost:8080/",
          "height": 34
        },
        "outputId": "942ffb71-a1b0-4615-c1fc-5bbca23518c8"
      },
      "source": [
        "# calculate the kurtosis for the respondent age\n",
        "df_dataset_one[\"Respondent_Age\"].kurt()\n",
        "\n",
        "# the distribution of the of the respondent age is too flat implying there were no outliers\n",
        "# the outliers were corrected during the cleaning process.\n",
        "# the kurtosis is -0.2"
      ],
      "execution_count": 23,
      "outputs": [
        {
          "output_type": "execute_result",
          "data": {
            "text/plain": [
              "-0.23634544791914935"
            ]
          },
          "metadata": {
            "tags": []
          },
          "execution_count": 23
        }
      ]
    },
    {
      "cell_type": "code",
      "metadata": {
        "id": "WbHgjULg1PAY",
        "colab_type": "code",
        "colab": {
          "base_uri": "https://localhost:8080/",
          "height": 324
        },
        "outputId": "36aab6f1-8a61-48a0-93f5-bbe612ee7052"
      },
      "source": [
        "# plotting the histogram for the gender of respondent.\n",
        "# the gender is classified in category of women and men hence not a numerical value.\n",
        "# plot the distribution of the gender of the and determine the frequencies\n",
        "#\n",
        "df_dataset_one['gender_of_respondent'].value_counts().plot.bar(title=\"Frequency of gender respondent\")\n",
        "\n",
        "                 # OBSERVATIONS\n",
        "# the number of women were more than the men"
      ],
      "execution_count": 24,
      "outputs": [
        {
          "output_type": "execute_result",
          "data": {
            "text/plain": [
              "<matplotlib.axes._subplots.AxesSubplot at 0x7f90e7f566a0>"
            ]
          },
          "metadata": {
            "tags": []
          },
          "execution_count": 24
        },
        {
          "output_type": "display_data",
          "data": {
            "image/png": "[encoded data removed]",
            "text/plain": [
              "<Figure size 432x288 with 1 Axes>"
            ]
          },
          "metadata": {
            "tags": [],
            "needs_background": "light"
          }
        }
      ]
    },
    {
      "cell_type": "code",
      "metadata": {
        "id": "g2VagELD4qQm",
        "colab_type": "code",
        "colab": {
          "base_uri": "https://localhost:8080/",
          "height": 282
        },
        "outputId": "9b3d3466-1ef4-4f95-f279-7826767fbc5b"
      },
      "source": [
        "# Plotting the histogram for household size\n",
        "# \n",
        "df_dataset_one['household_size'].hist()\n",
        "\n",
        "              # observations\n",
        "# the biggest household size was above 5000 \n",
        "# the smallest household size was  below 1000"
      ],
      "execution_count": 25,
      "outputs": [
        {
          "output_type": "execute_result",
          "data": {
            "text/plain": [
              "<matplotlib.axes._subplots.AxesSubplot at 0x7f90e7ea6ac8>"
            ]
          },
          "metadata": {
            "tags": []
          },
          "execution_count": 25
        },
        {
          "output_type": "display_data",
          "data": {
            "image/png": "[encoded data removed]",
            "text/plain": [
              "<Figure size 432x288 with 1 Axes>"
            ]
          },
          "metadata": {
            "tags": [],
            "needs_background": "light"
          }
        }
      ]
    },
    {
      "cell_type": "markdown",
      "metadata": {
        "id": "WhQPhcdDHqI8",
        "colab_type": "text"
      },
      "source": [
        "# BIVARIATE ANALYSIS:"
      ]
    },
    {
      "cell_type": "code",
      "metadata": {
        "id": "a61j4yrKO3z8",
        "colab_type": "code",
        "colab": {
          "base_uri": "https://localhost:8080/",
          "height": 34
        },
        "outputId": "24dcef52-81d1-4783-d148-cb37e13b113b"
      },
      "source": [
        "# Calculating correlation\n",
        "# \n",
        "df_dataset_one[\"household_size\"].corr(df_dataset_one[\"year\"]) \n",
        "\n",
        "# the variables have weak negative correlation\n"
      ],
      "execution_count": 26,
      "outputs": [
        {
          "output_type": "execute_result",
          "data": {
            "text/plain": [
              "-0.0974006720109618"
            ]
          },
          "metadata": {
            "tags": []
          },
          "execution_count": 26
        }
      ]
    },
    {
      "cell_type": "code",
      "metadata": {
        "id": "5wGtDSozCCb_",
        "colab_type": "code",
        "colab": {
          "base_uri": "https://localhost:8080/",
          "height": 34
        },
        "outputId": "43e49f77-0a2a-4564-82ac-25df1b260012"
      },
      "source": [
        "# calculate the pearson of coefficient \n",
        "# between the year respondent age and household size\n",
        "\n",
        "df_dataset_one[\"household_size\"].corr(df_dataset_one[\"Respondent_Age\"]) \n",
        "\n",
        "# the variables have weak negative correlation"
      ],
      "execution_count": 27,
      "outputs": [
        {
          "output_type": "execute_result",
          "data": {
            "text/plain": [
              "-0.10623942590329913"
            ]
          },
          "metadata": {
            "tags": []
          },
          "execution_count": 27
        }
      ]
    },
    {
      "cell_type": "code",
      "metadata": {
        "id": "Q0AEeA2mLCC-",
        "colab_type": "code",
        "colab": {
          "base_uri": "https://localhost:8080/",
          "height": 567
        },
        "outputId": "17846955-baaf-4fe6-c916-d849ea72f4cf"
      },
      "source": [
        "# plotting summaries and my observations \n",
        "\n",
        "sns.pairplot(df_dataset_one)\n",
        "plt.show()\n",
        "\n",
        "               #observations\n",
        "# from the visualizations below there were no positive or negative relationships among the variables.\n",
        "# the histograms are tailed to the left.\n",
        "\n"
      ],
      "execution_count": 28,
      "outputs": [
        {
          "output_type": "display_data",
          "data": {
            "image/png": "[encoded data removed]",
            "text/plain": [
              "<Figure size 540x540 with 12 Axes>"
            ]
          },
          "metadata": {
            "tags": [],
            "needs_background": "light"
          }
        }
      ]
    },
    {
      "cell_type": "markdown",
      "metadata": {
        "id": "t9TujT9iVFDC",
        "colab_type": "text"
      },
      "source": [
        "#Multivariate Analysis"
      ]
    },
    {
      "cell_type": "code",
      "metadata": {
        "id": "kHY69j2XVRbn",
        "colab_type": "code",
        "colab": {
          "base_uri": "https://localhost:8080/",
          "height": 357
        },
        "outputId": "04915e18-b44e-4832-e92c-b81b9dc19ff7"
      },
      "source": [
        "# checking the information about the dataframe\n",
        "#\n",
        "\n",
        "df_dataset_one.info()"
      ],
      "execution_count": 29,
      "outputs": [
        {
          "output_type": "stream",
          "text": [
            "<class 'pandas.core.frame.DataFrame'>\n",
            "Int64Index: 22903 entries, 0 to 23522\n",
            "Data columns (total 13 columns):\n",
            " #   Column                  Non-Null Count  Dtype  \n",
            "---  ------                  --------------  -----  \n",
            " 0   country                 22889 non-null  object \n",
            " 1   year                    22903 non-null  int64  \n",
            " 2   uniqueid                22903 non-null  object \n",
            " 3   Has_a_Bank_account      22867 non-null  object \n",
            " 4   Type_of_Location        22888 non-null  object \n",
            " 5   Cell_Phone_Access       22892 non-null  object \n",
            " 6   household_size          22876 non-null  float64\n",
            " 7   Respondent_Age          22870 non-null  float64\n",
            " 8   gender_of_respondent    22870 non-null  object \n",
            " 9   The relathip_with_head  22899 non-null  object \n",
            " 10  marital_status          22872 non-null  object \n",
            " 11  Level_of_Educuation     22874 non-null  object \n",
            " 12  Type_of_Job             22873 non-null  object \n",
            "dtypes: float64(2), int64(1), object(10)\n",
            "memory usage: 3.1+ MB\n"
          ],
          "name": "stdout"
        }
      ]
    },
    {
      "cell_type": "code",
      "metadata": {
        "id": "FVrSyMxlWlPy",
        "colab_type": "code",
        "colab": {
          "base_uri": "https://localhost:8080/",
          "height": 122
        },
        "outputId": "03f9de23-5703-43f9-877b-5e643e1db212"
      },
      "source": [
        "# preparing the data for the discriminat analysis\n",
        "# clean the data first by dropping the columns with object datatypes\n",
        "\n",
        "df_dataset_one.drop(['country','Type_of_Location', 'Cell_Phone_Access', 'gender_of_respondent',\n",
        "                     'The relathip_with_head', 'marital_status', 'Level_of_Educuation', 'Type_of_Job'\n",
        "                     ], axis= 1, inplace= True)\n"
      ],
      "execution_count": 30,
      "outputs": [
        {
          "output_type": "stream",
          "text": [
            "/usr/local/lib/python3.6/dist-packages/pandas/core/frame.py:3997: SettingWithCopyWarning: \n",
            "A value is trying to be set on a copy of a slice from a DataFrame\n",
            "\n",
            "See the caveats in the documentation: https://pandas.pydata.org/pandas-docs/stable/user_guide/indexing.html#returning-a-view-versus-a-copy\n",
            "  errors=errors,\n"
          ],
          "name": "stderr"
        }
      ]
    },
    {
      "cell_type": "code",
      "metadata": {
        "id": "MigBz_XWY_UI",
        "colab_type": "code",
        "colab": {
          "base_uri": "https://localhost:8080/",
          "height": 122
        },
        "outputId": "fdd197a7-998d-45e5-8528-c4a56da0d45b"
      },
      "source": [
        "# drop the uniqueid because it is an object datatype\n",
        "df_dataset_one.drop(['uniqueid'], axis = 1, inplace= True)"
      ],
      "execution_count": 31,
      "outputs": [
        {
          "output_type": "stream",
          "text": [
            "/usr/local/lib/python3.6/dist-packages/pandas/core/frame.py:3997: SettingWithCopyWarning: \n",
            "A value is trying to be set on a copy of a slice from a DataFrame\n",
            "\n",
            "See the caveats in the documentation: https://pandas.pydata.org/pandas-docs/stable/user_guide/indexing.html#returning-a-view-versus-a-copy\n",
            "  errors=errors,\n"
          ],
          "name": "stderr"
        }
      ]
    },
    {
      "cell_type": "code",
      "metadata": {
        "id": "1om_VldbVCgG",
        "colab_type": "code",
        "colab": {}
      },
      "source": [
        "# drop the uniqueid because it is an object datatype\n",
        "df_dataset_one.drop(['uniqueid'], axis = 1, inplace= True)"
      ],
      "execution_count": null,
      "outputs": []
    },
    {
      "cell_type": "code",
      "metadata": {
        "id": "muwXEDIBZapi",
        "colab_type": "code",
        "colab": {
          "base_uri": "https://localhost:8080/",
          "height": 255
        },
        "outputId": "bb6c399e-2cd0-4c47-afa7-b1a5a3d2bb20"
      },
      "source": [
        "# print out the data to ascertain if you only have numerical integers\n",
        "#\n",
        "\n",
        "print(df_dataset_one)"
      ],
      "execution_count": 40,
      "outputs": [
        {
          "output_type": "stream",
          "text": [
            "       year Has_a_Bank_account  household_size  Respondent_Age\n",
            "0      2018                Yes             3.0            24.0\n",
            "1      2018                 No             5.0            70.0\n",
            "2      2018                Yes             5.0            26.0\n",
            "3      2018                 No             5.0            34.0\n",
            "4      2018                 No             8.0            26.0\n",
            "...     ...                ...             ...             ...\n",
            "23512  2018                 No             2.0            57.0\n",
            "23519  2018                 No             4.0            48.0\n",
            "23520  2018                 No             2.0            27.0\n",
            "23521  2018                 No             5.0            27.0\n",
            "23522  2018                 No             7.0            30.0\n",
            "\n",
            "[22816 rows x 4 columns]\n"
          ],
          "name": "stdout"
        }
      ]
    },
    {
      "cell_type": "code",
      "metadata": {
        "id": "hYdWUPWfZjrM",
        "colab_type": "code",
        "colab": {
          "base_uri": "https://localhost:8080/",
          "height": 102
        },
        "outputId": "f3d9a245-f4c6-4abb-f1a9-47c5c0d35d21"
      },
      "source": [
        "# check for missing values \n",
        "# \n",
        "\n",
        "df_dataset_one.isnull().sum()"
      ],
      "execution_count": 33,
      "outputs": [
        {
          "output_type": "execute_result",
          "data": {
            "text/plain": [
              "year                   0\n",
              "Has_a_Bank_account    36\n",
              "household_size        27\n",
              "Respondent_Age        33\n",
              "dtype: int64"
            ]
          },
          "metadata": {
            "tags": []
          },
          "execution_count": 33
        }
      ]
    },
    {
      "cell_type": "code",
      "metadata": {
        "id": "fPku5KoEZrux",
        "colab_type": "code",
        "colab": {
          "base_uri": "https://localhost:8080/",
          "height": 122
        },
        "outputId": "ecd954f5-090a-4f63-c4e0-f7afe7a9d404"
      },
      "source": [
        "# drop those missing values\n",
        "#\n",
        "\n",
        "df_dataset_one.dropna(inplace=True)"
      ],
      "execution_count": 34,
      "outputs": [
        {
          "output_type": "stream",
          "text": [
            "/usr/local/lib/python3.6/dist-packages/ipykernel_launcher.py:4: SettingWithCopyWarning: \n",
            "A value is trying to be set on a copy of a slice from a DataFrame\n",
            "\n",
            "See the caveats in the documentation: https://pandas.pydata.org/pandas-docs/stable/user_guide/indexing.html#returning-a-view-versus-a-copy\n",
            "  after removing the cwd from sys.path.\n"
          ],
          "name": "stderr"
        }
      ]
    },
    {
      "cell_type": "code",
      "metadata": {
        "id": "qD9L2tttZ29u",
        "colab_type": "code",
        "colab": {
          "base_uri": "https://localhost:8080/",
          "height": 102
        },
        "outputId": "be96447c-fff5-4851-9b93-e00c9fe2edbb"
      },
      "source": [
        "# confirm if the data is okay and lacks missing values\n",
        "#\n",
        "df_dataset_one.isnull().sum()"
      ],
      "execution_count": 35,
      "outputs": [
        {
          "output_type": "execute_result",
          "data": {
            "text/plain": [
              "year                  0\n",
              "Has_a_Bank_account    0\n",
              "household_size        0\n",
              "Respondent_Age        0\n",
              "dtype: int64"
            ]
          },
          "metadata": {
            "tags": []
          },
          "execution_count": 35
        }
      ]
    },
    {
      "cell_type": "markdown",
      "metadata": {
        "id": "0O48gaO-b50z",
        "colab_type": "text"
      },
      "source": [
        "# Implementing the solution by carring out a principal component analysis."
      ]
    },
    {
      "cell_type": "code",
      "metadata": {
        "id": "SRFwIZ_qcT77",
        "colab_type": "code",
        "colab": {}
      },
      "source": [
        "# divide the data into feature set and corresponding values\n",
        "#\n",
        "X = df_dataset_one.drop('Has_a_Bank_account', 1)\n",
        "y = df_dataset_one['Has_a_Bank_account']"
      ],
      "execution_count": 43,
      "outputs": []
    },
    {
      "cell_type": "code",
      "metadata": {
        "id": "NKMfGVUbzw3o",
        "colab_type": "code",
        "colab": {}
      },
      "source": [
        "#Splitting the dataset into the Training set and Test set\n",
        "# The next preprocessing step is to divide data into training and test sets. \n",
        "#\n",
        "\n",
        "from sklearn.model_selection import train_test_split\n",
        "\n",
        "X_train, X_test, y_train, y_test = train_test_split(X, y, test_size=0.2, random_state=0)"
      ],
      "execution_count": 44,
      "outputs": []
    },
    {
      "cell_type": "code",
      "metadata": {
        "id": "rA2MCsIKz-Us",
        "colab_type": "code",
        "colab": {}
      },
      "source": [
        "# perform pca with a normalized feature set. \n",
        "# We will perform standard scalar normalization to normalize our feature set. \n",
        "\n",
        "# \n",
        "from sklearn.preprocessing import StandardScaler\n",
        "\n",
        "sc = StandardScaler()\n",
        "X_train = sc.fit_transform(X_train)\n",
        "X_test = sc.transform(X_test)"
      ],
      "execution_count": 46,
      "outputs": []
    },
    {
      "cell_type": "code",
      "metadata": {
        "id": "c-GQD69U0KLg",
        "colab_type": "code",
        "colab": {}
      },
      "source": [
        "# perform pca on the dataset\n",
        "#\n",
        "from sklearn.decomposition import PCA\n",
        "\n",
        "pca = PCA()\n",
        "X_train = pca.fit_transform(X_train)\n",
        "X_test = pca.transform(X_test)"
      ],
      "execution_count": 47,
      "outputs": []
    },
    {
      "cell_type": "code",
      "metadata": {
        "id": "TGqMvyQk0Ti2",
        "colab_type": "code",
        "colab": {
          "base_uri": "https://localhost:8080/",
          "height": 34
        },
        "outputId": "5ab3b597-18d0-4c01-cb42-9a47f2fd1f75"
      },
      "source": [
        "# calculate the Explained Variance Ratio\n",
        "# \n",
        "explained_variance = pca.explained_variance_ratio_\n",
        "\n",
        "# add the two variances collectively\n",
        "# the total is 99%\n",
        "# in the feature set is captured by the first two principal components.\n",
        "explained_variance"
      ],
      "execution_count": 48,
      "outputs": [
        {
          "output_type": "execute_result",
          "data": {
            "text/plain": [
              "array([0.37854351, 0.33995155, 0.28150494])"
            ]
          },
          "metadata": {
            "tags": []
          },
          "execution_count": 48
        }
      ]
    },
    {
      "cell_type": "code",
      "metadata": {
        "id": "wKqTOm5D2D4a",
        "colab_type": "code",
        "colab": {}
      },
      "source": [
        "# use the 1 and 2 Principal Component\n",
        "# \n",
        "# \n",
        "from sklearn.decomposition import PCA\n",
        "\n",
        "pca = PCA()\n",
        "X_train = pca.fit_transform(X_train)\n",
        "X_test = pca.transform(X_test)"
      ],
      "execution_count": 50,
      "outputs": []
    },
    {
      "cell_type": "code",
      "metadata": {
        "id": "3whr0eDX2Z6n",
        "colab_type": "code",
        "colab": {}
      },
      "source": [
        "# Train and Make Predictions\n",
        "# Import random forest classification for making the predictions.\n",
        "# \n",
        "from sklearn.ensemble import RandomForestClassifier\n",
        "\n",
        "classifier = RandomForestClassifier(max_depth=2, random_state=0)\n",
        "classifier.fit(X_train, y_train)\n",
        "\n",
        "# Predicting the Test set results\n",
        "y_pred = classifier.predict(X_test)"
      ],
      "execution_count": 51,
      "outputs": []
    },
    {
      "cell_type": "code",
      "metadata": {
        "id": "CASdt7yE221T",
        "colab_type": "code",
        "colab": {
          "base_uri": "https://localhost:8080/",
          "height": 68
        },
        "outputId": "95ff6826-0bd9-45e7-def8-b12a8cb4b397"
      },
      "source": [
        "# Step 8: Evaluating the Performance\n",
        "# As always, the last step is to evaluate performance of the algorithm \n",
        "# with the help of a confusion matrix and find the accuracy of the prediction.\n",
        "# \n",
        "\n",
        "from sklearn.metrics import confusion_matrix\n",
        "from sklearn.metrics import accuracy_score\n",
        "\n",
        "cm = confusion_matrix(y_test, y_pred)\n",
        "print(cm)\n",
        "print('Accuracy' + str(accuracy_score(y_test, y_pred)))\n"
      ],
      "execution_count": 52,
      "outputs": [
        {
          "output_type": "stream",
          "text": [
            "[[3909    0]\n",
            " [ 655    0]]\n",
            "Accuracy0.8564855390008764\n"
          ],
          "name": "stdout"
        }
      ]
    },
    {
      "cell_type": "markdown",
      "metadata": {
        "id": "ZgT_EM7CNqtL",
        "colab_type": "text"
      },
      "source": [
        "#Implementing the Solution"
      ]
    },
    {
      "cell_type": "code",
      "metadata": {
        "id": "PJeAeBO1N8zB",
        "colab_type": "code",
        "colab": {}
      },
      "source": [
        "# the accuracy of the model is 86% when using Has_a_Bank_account in determining the individuals with the bank accounts"
      ],
      "execution_count": 53,
      "outputs": []
    },
    {
      "cell_type": "markdown",
      "metadata": {
        "id": "3PcfnuMM8-6a",
        "colab_type": "text"
      },
      "source": [
        "Challenging the solution"
      ]
    },
    {
      "cell_type": "code",
      "metadata": {
        "id": "ZNTXphSU9B-t",
        "colab_type": "code",
        "colab": {}
      },
      "source": [
        "# the model is not accurate since the accuracy level is ony 86%\n",
        "# the principal component analysis uses only numerical values\n",
        "# categorical values could have given us the accurate figures"
      ],
      "execution_count": 54,
      "outputs": []
    },
    {
      "cell_type": "markdown",
      "metadata": {
        "id": "cc9cU8LY9Xgs",
        "colab_type": "text"
      },
      "source": [
        "follow up questions"
      ]
    },
    {
      "cell_type": "code",
      "metadata": {
        "id": "_1uKO-dAAkGy",
        "colab_type": "code",
        "colab": {}
      },
      "source": [
        "# we had the right question."
      ],
      "execution_count": null,
      "outputs": []
    }
  ]
}